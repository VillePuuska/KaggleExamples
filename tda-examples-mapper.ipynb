{
 "cells": [
  {
   "cell_type": "markdown",
   "id": "e00a9121",
   "metadata": {
    "papermill": {
     "duration": 0.003571,
     "end_time": "2023-11-08T20:30:01.551651",
     "exception": false,
     "start_time": "2023-11-08T20:30:01.548080",
     "status": "completed"
    },
    "tags": []
   },
   "source": [
    "# TDA examples\n",
    "\n",
    "### Simple examples of mapper using kmapper."
   ]
  },
  {
   "cell_type": "code",
   "execution_count": 1,
   "id": "5ab40e2e",
   "metadata": {
    "_kg_hide-input": false,
    "_kg_hide-output": true,
    "execution": {
     "iopub.execute_input": "2023-11-08T20:30:01.561907Z",
     "iopub.status.busy": "2023-11-08T20:30:01.561154Z",
     "iopub.status.idle": "2023-11-08T20:30:47.353470Z",
     "shell.execute_reply": "2023-11-08T20:30:47.352425Z"
    },
    "papermill": {
     "duration": 45.801345,
     "end_time": "2023-11-08T20:30:47.356202",
     "exception": false,
     "start_time": "2023-11-08T20:30:01.554857",
     "status": "completed"
    },
    "scrolled": true,
    "tags": []
   },
   "outputs": [
    {
     "name": "stdout",
     "output_type": "stream",
     "text": [
      "Collecting scikit-tda\r\n",
      "  Downloading scikit_tda-1.0.0-py3-none-any.whl (2.9 kB)\r\n",
      "Requirement already satisfied: numpy in /opt/conda/lib/python3.10/site-packages (from scikit-tda) (1.23.5)\r\n",
      "Requirement already satisfied: scipy in /opt/conda/lib/python3.10/site-packages (from scikit-tda) (1.11.2)\r\n",
      "Requirement already satisfied: scikit-learn in /opt/conda/lib/python3.10/site-packages (from scikit-tda) (1.2.2)\r\n",
      "Requirement already satisfied: matplotlib in /opt/conda/lib/python3.10/site-packages (from scikit-tda) (3.7.2)\r\n",
      "Requirement already satisfied: Cython in /opt/conda/lib/python3.10/site-packages (from scikit-tda) (0.29.35)\r\n",
      "Collecting ripser (from scikit-tda)\r\n",
      "  Downloading ripser-0.6.4.tar.gz (74 kB)\r\n",
      "\u001b[2K     \u001b[90m━━━━━━━━━━━━━━━━━━━━━━━━━━━━━━━━━━━━━━━━\u001b[0m \u001b[32m74.6/74.6 kB\u001b[0m \u001b[31m5.0 MB/s\u001b[0m eta \u001b[36m0:00:00\u001b[0m\r\n",
      "\u001b[?25h  Installing build dependencies ... \u001b[?25l-\b \b\\\b \b|\b \b/\b \b-\b \b\\\b \b|\b \bdone\r\n",
      "\u001b[?25h  Getting requirements to build wheel ... \u001b[?25l-\b \b\\\b \bdone\r\n",
      "\u001b[?25h  Preparing metadata (pyproject.toml) ... \u001b[?25l-\b \bdone\r\n",
      "\u001b[?25hCollecting persim (from scikit-tda)\r\n",
      "  Downloading persim-0.3.2-py3-none-any.whl (48 kB)\r\n",
      "\u001b[2K     \u001b[90m━━━━━━━━━━━━━━━━━━━━━━━━━━━━━━━━━━━━━━━━\u001b[0m \u001b[32m48.1/48.1 kB\u001b[0m \u001b[31m4.8 MB/s\u001b[0m eta \u001b[36m0:00:00\u001b[0m\r\n",
      "\u001b[?25hRequirement already satisfied: pillow in /opt/conda/lib/python3.10/site-packages (from scikit-tda) (9.5.0)\r\n",
      "Requirement already satisfied: kmapper in /opt/conda/lib/python3.10/site-packages (from scikit-tda) (2.0.1)\r\n",
      "Collecting tadasets (from scikit-tda)\r\n",
      "  Downloading tadasets-0.0.4-py3-none-any.whl (7.1 kB)\r\n",
      "Requirement already satisfied: Jinja2 in /opt/conda/lib/python3.10/site-packages (from kmapper->scikit-tda) (3.1.2)\r\n",
      "Requirement already satisfied: contourpy>=1.0.1 in /opt/conda/lib/python3.10/site-packages (from matplotlib->scikit-tda) (1.1.0)\r\n",
      "Requirement already satisfied: cycler>=0.10 in /opt/conda/lib/python3.10/site-packages (from matplotlib->scikit-tda) (0.11.0)\r\n",
      "Requirement already satisfied: fonttools>=4.22.0 in /opt/conda/lib/python3.10/site-packages (from matplotlib->scikit-tda) (4.40.0)\r\n",
      "Requirement already satisfied: kiwisolver>=1.0.1 in /opt/conda/lib/python3.10/site-packages (from matplotlib->scikit-tda) (1.4.4)\r\n",
      "Requirement already satisfied: packaging>=20.0 in /opt/conda/lib/python3.10/site-packages (from matplotlib->scikit-tda) (21.3)\r\n",
      "Requirement already satisfied: pyparsing<3.1,>=2.3.1 in /opt/conda/lib/python3.10/site-packages (from matplotlib->scikit-tda) (3.0.9)\r\n",
      "Requirement already satisfied: python-dateutil>=2.7 in /opt/conda/lib/python3.10/site-packages (from matplotlib->scikit-tda) (2.8.2)\r\n",
      "Collecting hopcroftkarp (from persim->scikit-tda)\r\n",
      "  Downloading hopcroftkarp-1.2.5.tar.gz (16 kB)\r\n",
      "  Preparing metadata (setup.py) ... \u001b[?25ldone\r\n",
      "\u001b[?25hRequirement already satisfied: deprecated in /opt/conda/lib/python3.10/site-packages (from persim->scikit-tda) (1.2.14)\r\n",
      "Requirement already satisfied: joblib in /opt/conda/lib/python3.10/site-packages (from persim->scikit-tda) (1.3.2)\r\n",
      "Requirement already satisfied: threadpoolctl>=2.0.0 in /opt/conda/lib/python3.10/site-packages (from scikit-learn->scikit-tda) (3.1.0)\r\n",
      "Requirement already satisfied: six>=1.5 in /opt/conda/lib/python3.10/site-packages (from python-dateutil>=2.7->matplotlib->scikit-tda) (1.16.0)\r\n",
      "Requirement already satisfied: wrapt<2,>=1.10 in /opt/conda/lib/python3.10/site-packages (from deprecated->persim->scikit-tda) (1.14.1)\r\n",
      "Requirement already satisfied: MarkupSafe>=2.0 in /opt/conda/lib/python3.10/site-packages (from Jinja2->kmapper->scikit-tda) (2.1.3)\r\n",
      "Building wheels for collected packages: ripser, hopcroftkarp\r\n",
      "  Building wheel for ripser (pyproject.toml) ... \u001b[?25l-\b \b\\\b \b|\b \b/\b \b-\b \b\\\b \bdone\r\n",
      "\u001b[?25h  Created wheel for ripser: filename=ripser-0.6.4-cp310-cp310-linux_x86_64.whl size=88592 sha256=f7de0433fbc90cf76de83773d602429b2ec8aedfd3e360c6c7e84515e3b7b1b1\r\n",
      "  Stored in directory: /root/.cache/pip/wheels/c5/f5/66/f41f708b049057431155934f74e20ca6001a085fcd2e615150\r\n",
      "  Building wheel for hopcroftkarp (setup.py) ... \u001b[?25l-\b \bdone\r\n",
      "\u001b[?25h  Created wheel for hopcroftkarp: filename=hopcroftkarp-1.2.5-py2.py3-none-any.whl size=18102 sha256=ae6ab299029de90093f34d597f4cbf84f8e9e5b3447a7fd15610f8cf8cd5cd79\r\n",
      "  Stored in directory: /root/.cache/pip/wheels/ef/0f/3b/0f931844eecc34addd90e72d54cd39c08b7066c5f25c00b9a4\r\n",
      "Successfully built ripser hopcroftkarp\r\n",
      "Installing collected packages: hopcroftkarp, tadasets, persim, ripser, scikit-tda\r\n",
      "Successfully installed hopcroftkarp-1.2.5 persim-0.3.2 ripser-0.6.4 scikit-tda-1.0.0 tadasets-0.0.4\r\n"
     ]
    }
   ],
   "source": [
    "!pip install scikit-tda"
   ]
  },
  {
   "cell_type": "code",
   "execution_count": 2,
   "id": "2ea4e65c",
   "metadata": {
    "execution": {
     "iopub.execute_input": "2023-11-08T20:30:47.371165Z",
     "iopub.status.busy": "2023-11-08T20:30:47.370762Z",
     "iopub.status.idle": "2023-11-08T20:30:49.107091Z",
     "shell.execute_reply": "2023-11-08T20:30:49.105874Z"
    },
    "papermill": {
     "duration": 1.747031,
     "end_time": "2023-11-08T20:30:49.109985",
     "exception": false,
     "start_time": "2023-11-08T20:30:47.362954",
     "status": "completed"
    },
    "tags": []
   },
   "outputs": [],
   "source": [
    "import kmapper as km\n",
    "from sklearn import datasets\n",
    "import os\n",
    "\n",
    "output_dir = \"/kaggle/working\""
   ]
  },
  {
   "cell_type": "code",
   "execution_count": 3,
   "id": "9489dca8",
   "metadata": {
    "execution": {
     "iopub.execute_input": "2023-11-08T20:30:49.125442Z",
     "iopub.status.busy": "2023-11-08T20:30:49.124666Z",
     "iopub.status.idle": "2023-11-08T20:30:49.948172Z",
     "shell.execute_reply": "2023-11-08T20:30:49.947095Z"
    },
    "papermill": {
     "duration": 0.833427,
     "end_time": "2023-11-08T20:30:49.950156",
     "exception": false,
     "start_time": "2023-11-08T20:30:49.116729",
     "status": "completed"
    },
    "tags": []
   },
   "outputs": [
    {
     "name": "stdout",
     "output_type": "stream",
     "text": [
      "KeplerMapper(verbose=1)\n",
      "..Composing projection pipeline of length 1:\n",
      "\tProjections: [0, 1]\n",
      "\tDistance matrices: False\n",
      "\tScalers: MinMaxScaler()\n",
      "..Projecting on data shaped (5000, 2)\n",
      "\n",
      "..Projecting data using: [0, 1]\n",
      "\n",
      "..Scaling with: MinMaxScaler()\n",
      "\n",
      "Mapping on data shaped (5000, 2) using lens shaped (5000, 2)\n",
      "\n",
      "Creating 100 hypercubes.\n",
      "\n",
      "Created 246 edges and 94 nodes in 0:00:00.447589.\n",
      "Wrote visualization to: /kaggle/working/make_circles_keplermapper_output.html\n"
     ]
    }
   ],
   "source": [
    "data, _ = datasets.make_circles(n_samples=5000, noise=0.03, factor=0.3)\n",
    "\n",
    "# Initialize\n",
    "mapper = km.KeplerMapper(verbose=1)\n",
    "\n",
    "# Fit to and transform the data\n",
    "projected_data = mapper.fit_transform(data, projection=[0,1]) # X-Y axis\n",
    "\n",
    "# Create a cover with 10 elements\n",
    "cover = km.Cover(n_cubes=10)\n",
    "\n",
    "# Create dictionary called 'graph' with nodes, edges and meta-information\n",
    "graph = mapper.map(projected_data, data, cover=cover)\n",
    "\n",
    "# Visualize it\n",
    "mapper_html = mapper.visualize(graph, path_html=os.path.join(output_dir, \"make_circles_keplermapper_output.html\"),\n",
    "                 title=\"make_circles(n_samples=5000, noise=0.03, factor=0.3)\")"
   ]
  },
  {
   "cell_type": "markdown",
   "id": "06adc4aa",
   "metadata": {
    "papermill": {
     "duration": 0.006198,
     "end_time": "2023-11-08T20:30:49.962672",
     "exception": false,
     "start_time": "2023-11-08T20:30:49.956474",
     "status": "completed"
    },
    "tags": []
   },
   "source": [
    "### Example data"
   ]
  },
  {
   "cell_type": "code",
   "execution_count": null,
   "id": "4a922200",
   "metadata": {
    "papermill": {
     "duration": 0.005992,
     "end_time": "2023-11-08T20:30:49.974891",
     "exception": false,
     "start_time": "2023-11-08T20:30:49.968899",
     "status": "completed"
    },
    "tags": []
   },
   "outputs": [],
   "source": []
  },
  {
   "cell_type": "markdown",
   "id": "ace4bb02",
   "metadata": {
    "papermill": {
     "duration": 0.006305,
     "end_time": "2023-11-08T20:30:49.988354",
     "exception": false,
     "start_time": "2023-11-08T20:30:49.982049",
     "status": "completed"
    },
    "tags": []
   },
   "source": [
    "### Mapper: kmapper"
   ]
  },
  {
   "cell_type": "code",
   "execution_count": null,
   "id": "6ae2cb6a",
   "metadata": {
    "papermill": {
     "duration": 0.007192,
     "end_time": "2023-11-08T20:30:50.002262",
     "exception": false,
     "start_time": "2023-11-08T20:30:49.995070",
     "status": "completed"
    },
    "tags": []
   },
   "outputs": [],
   "source": []
  }
 ],
 "metadata": {
  "kernelspec": {
   "display_name": "Python 3",
   "language": "python",
   "name": "python3"
  },
  "language_info": {
   "codemirror_mode": {
    "name": "ipython",
    "version": 3
   },
   "file_extension": ".py",
   "mimetype": "text/x-python",
   "name": "python",
   "nbconvert_exporter": "python",
   "pygments_lexer": "ipython3",
   "version": "3.10.12"
  },
  "papermill": {
   "default_parameters": {},
   "duration": 52.210108,
   "end_time": "2023-11-08T20:30:50.429575",
   "environment_variables": {},
   "exception": null,
   "input_path": "__notebook__.ipynb",
   "output_path": "__notebook__.ipynb",
   "parameters": {},
   "start_time": "2023-11-08T20:29:58.219467",
   "version": "2.4.0"
  }
 },
 "nbformat": 4,
 "nbformat_minor": 5
}
