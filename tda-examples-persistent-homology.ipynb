{
 "cells": [
  {
   "cell_type": "markdown",
   "id": "248ef1fe",
   "metadata": {
    "papermill": {
     "duration": 0.003485,
     "end_time": "2023-11-08T20:24:23.225380",
     "exception": false,
     "start_time": "2023-11-08T20:24:23.221895",
     "status": "completed"
    },
    "tags": []
   },
   "source": [
    "# TDA examples\n",
    "\n",
    "### Simple examples of persistent homology using ripser and persim."
   ]
  },
  {
   "cell_type": "code",
   "execution_count": 1,
   "id": "8f7dd28f",
   "metadata": {
    "_cell_guid": "b1076dfc-b9ad-4769-8c92-a6c4dae69d19",
    "_kg_hide-output": true,
    "_uuid": "8f2839f25d086af736a60e9eeb907d3b93b6e0e5",
    "execution": {
     "iopub.execute_input": "2023-11-08T20:24:23.236578Z",
     "iopub.status.busy": "2023-11-08T20:24:23.235451Z",
     "iopub.status.idle": "2023-11-08T20:25:13.236243Z",
     "shell.execute_reply": "2023-11-08T20:25:13.234697Z"
    },
    "papermill": {
     "duration": 50.010442,
     "end_time": "2023-11-08T20:25:13.239102",
     "exception": false,
     "start_time": "2023-11-08T20:24:23.228660",
     "status": "completed"
    },
    "scrolled": true,
    "tags": []
   },
   "outputs": [
    {
     "name": "stdout",
     "output_type": "stream",
     "text": [
      "Collecting scikit-tda\r\n",
      "  Downloading scikit_tda-1.0.0-py3-none-any.whl (2.9 kB)\r\n",
      "Requirement already satisfied: numpy in /opt/conda/lib/python3.10/site-packages (from scikit-tda) (1.23.5)\r\n",
      "Requirement already satisfied: scipy in /opt/conda/lib/python3.10/site-packages (from scikit-tda) (1.11.2)\r\n",
      "Requirement already satisfied: scikit-learn in /opt/conda/lib/python3.10/site-packages (from scikit-tda) (1.2.2)\r\n",
      "Requirement already satisfied: matplotlib in /opt/conda/lib/python3.10/site-packages (from scikit-tda) (3.7.2)\r\n",
      "Requirement already satisfied: Cython in /opt/conda/lib/python3.10/site-packages (from scikit-tda) (0.29.35)\r\n",
      "Collecting ripser (from scikit-tda)\r\n",
      "  Downloading ripser-0.6.4.tar.gz (74 kB)\r\n",
      "\u001b[2K     \u001b[90m━━━━━━━━━━━━━━━━━━━━━━━━━━━━━━━━━━━━━━━━\u001b[0m \u001b[32m74.6/74.6 kB\u001b[0m \u001b[31m2.4 MB/s\u001b[0m eta \u001b[36m0:00:00\u001b[0m\r\n",
      "\u001b[?25h  Installing build dependencies ... \u001b[?25l-\b \b\\\b \b|\b \b/\b \b-\b \b\\\b \b|\b \b/\b \b-\b \bdone\r\n",
      "\u001b[?25h  Getting requirements to build wheel ... \u001b[?25l-\b \b\\\b \bdone\r\n",
      "\u001b[?25h  Preparing metadata (pyproject.toml) ... \u001b[?25l-\b \bdone\r\n",
      "\u001b[?25hCollecting persim (from scikit-tda)\r\n",
      "  Downloading persim-0.3.2-py3-none-any.whl (48 kB)\r\n",
      "\u001b[2K     \u001b[90m━━━━━━━━━━━━━━━━━━━━━━━━━━━━━━━━━━━━━━━━\u001b[0m \u001b[32m48.1/48.1 kB\u001b[0m \u001b[31m4.1 MB/s\u001b[0m eta \u001b[36m0:00:00\u001b[0m\r\n",
      "\u001b[?25hRequirement already satisfied: pillow in /opt/conda/lib/python3.10/site-packages (from scikit-tda) (9.5.0)\r\n",
      "Requirement already satisfied: kmapper in /opt/conda/lib/python3.10/site-packages (from scikit-tda) (2.0.1)\r\n",
      "Collecting tadasets (from scikit-tda)\r\n",
      "  Downloading tadasets-0.0.4-py3-none-any.whl (7.1 kB)\r\n",
      "Requirement already satisfied: Jinja2 in /opt/conda/lib/python3.10/site-packages (from kmapper->scikit-tda) (3.1.2)\r\n",
      "Requirement already satisfied: contourpy>=1.0.1 in /opt/conda/lib/python3.10/site-packages (from matplotlib->scikit-tda) (1.1.0)\r\n",
      "Requirement already satisfied: cycler>=0.10 in /opt/conda/lib/python3.10/site-packages (from matplotlib->scikit-tda) (0.11.0)\r\n",
      "Requirement already satisfied: fonttools>=4.22.0 in /opt/conda/lib/python3.10/site-packages (from matplotlib->scikit-tda) (4.40.0)\r\n",
      "Requirement already satisfied: kiwisolver>=1.0.1 in /opt/conda/lib/python3.10/site-packages (from matplotlib->scikit-tda) (1.4.4)\r\n",
      "Requirement already satisfied: packaging>=20.0 in /opt/conda/lib/python3.10/site-packages (from matplotlib->scikit-tda) (21.3)\r\n",
      "Requirement already satisfied: pyparsing<3.1,>=2.3.1 in /opt/conda/lib/python3.10/site-packages (from matplotlib->scikit-tda) (3.0.9)\r\n",
      "Requirement already satisfied: python-dateutil>=2.7 in /opt/conda/lib/python3.10/site-packages (from matplotlib->scikit-tda) (2.8.2)\r\n",
      "Collecting hopcroftkarp (from persim->scikit-tda)\r\n",
      "  Downloading hopcroftkarp-1.2.5.tar.gz (16 kB)\r\n",
      "  Preparing metadata (setup.py) ... \u001b[?25ldone\r\n",
      "\u001b[?25hRequirement already satisfied: deprecated in /opt/conda/lib/python3.10/site-packages (from persim->scikit-tda) (1.2.14)\r\n",
      "Requirement already satisfied: joblib in /opt/conda/lib/python3.10/site-packages (from persim->scikit-tda) (1.3.2)\r\n",
      "Requirement already satisfied: threadpoolctl>=2.0.0 in /opt/conda/lib/python3.10/site-packages (from scikit-learn->scikit-tda) (3.1.0)\r\n",
      "Requirement already satisfied: six>=1.5 in /opt/conda/lib/python3.10/site-packages (from python-dateutil>=2.7->matplotlib->scikit-tda) (1.16.0)\r\n",
      "Requirement already satisfied: wrapt<2,>=1.10 in /opt/conda/lib/python3.10/site-packages (from deprecated->persim->scikit-tda) (1.14.1)\r\n",
      "Requirement already satisfied: MarkupSafe>=2.0 in /opt/conda/lib/python3.10/site-packages (from Jinja2->kmapper->scikit-tda) (2.1.3)\r\n",
      "Building wheels for collected packages: ripser, hopcroftkarp\r\n",
      "  Building wheel for ripser (pyproject.toml) ... \u001b[?25l-\b \b\\\b \b|\b \b/\b \b-\b \b\\\b \bdone\r\n",
      "\u001b[?25h  Created wheel for ripser: filename=ripser-0.6.4-cp310-cp310-linux_x86_64.whl size=88592 sha256=1dd5e312bd229a9033f3bb6d58f0307abe176c4f8b19a1f3ba97cbbdad602c49\r\n",
      "  Stored in directory: /root/.cache/pip/wheels/c5/f5/66/f41f708b049057431155934f74e20ca6001a085fcd2e615150\r\n",
      "  Building wheel for hopcroftkarp (setup.py) ... \u001b[?25l-\b \bdone\r\n",
      "\u001b[?25h  Created wheel for hopcroftkarp: filename=hopcroftkarp-1.2.5-py2.py3-none-any.whl size=18102 sha256=4165112598298e6cf8147ceb0e6102bdc9c2659786a2bf822c005f32e9b01b78\r\n",
      "  Stored in directory: /root/.cache/pip/wheels/ef/0f/3b/0f931844eecc34addd90e72d54cd39c08b7066c5f25c00b9a4\r\n",
      "Successfully built ripser hopcroftkarp\r\n",
      "Installing collected packages: hopcroftkarp, tadasets, persim, ripser, scikit-tda\r\n",
      "Successfully installed hopcroftkarp-1.2.5 persim-0.3.2 ripser-0.6.4 scikit-tda-1.0.0 tadasets-0.0.4\r\n"
     ]
    }
   ],
   "source": [
    "!pip install scikit-tda"
   ]
  },
  {
   "cell_type": "markdown",
   "id": "17e4bce0",
   "metadata": {
    "papermill": {
     "duration": 0.006342,
     "end_time": "2023-11-08T20:25:13.252666",
     "exception": false,
     "start_time": "2023-11-08T20:25:13.246324",
     "status": "completed"
    },
    "tags": []
   },
   "source": [
    "### Example data"
   ]
  },
  {
   "cell_type": "code",
   "execution_count": 2,
   "id": "5856bc20",
   "metadata": {
    "execution": {
     "iopub.execute_input": "2023-11-08T20:25:13.268668Z",
     "iopub.status.busy": "2023-11-08T20:25:13.268178Z",
     "iopub.status.idle": "2023-11-08T20:25:13.273661Z",
     "shell.execute_reply": "2023-11-08T20:25:13.272542Z"
    },
    "papermill": {
     "duration": 0.016643,
     "end_time": "2023-11-08T20:25:13.276309",
     "exception": false,
     "start_time": "2023-11-08T20:25:13.259666",
     "status": "completed"
    },
    "tags": []
   },
   "outputs": [],
   "source": [
    "# Generate and visualize"
   ]
  },
  {
   "cell_type": "markdown",
   "id": "f2c375a7",
   "metadata": {
    "papermill": {
     "duration": 0.006342,
     "end_time": "2023-11-08T20:25:13.289533",
     "exception": false,
     "start_time": "2023-11-08T20:25:13.283191",
     "status": "completed"
    },
    "tags": []
   },
   "source": [
    "### Persistence diagrams: ripser"
   ]
  },
  {
   "cell_type": "code",
   "execution_count": null,
   "id": "10dfd5b6",
   "metadata": {
    "papermill": {
     "duration": 0.006383,
     "end_time": "2023-11-08T20:25:13.302565",
     "exception": false,
     "start_time": "2023-11-08T20:25:13.296182",
     "status": "completed"
    },
    "tags": []
   },
   "outputs": [],
   "source": []
  },
  {
   "cell_type": "markdown",
   "id": "e27c6707",
   "metadata": {
    "papermill": {
     "duration": 0.006384,
     "end_time": "2023-11-08T20:25:13.315556",
     "exception": false,
     "start_time": "2023-11-08T20:25:13.309172",
     "status": "completed"
    },
    "tags": []
   },
   "source": [
    "### Persistence images: persim"
   ]
  },
  {
   "cell_type": "code",
   "execution_count": null,
   "id": "1e24eca2",
   "metadata": {
    "papermill": {
     "duration": 0.006327,
     "end_time": "2023-11-08T20:25:13.328504",
     "exception": false,
     "start_time": "2023-11-08T20:25:13.322177",
     "status": "completed"
    },
    "tags": []
   },
   "outputs": [],
   "source": []
  }
 ],
 "metadata": {
  "kernelspec": {
   "display_name": "Python 3",
   "language": "python",
   "name": "python3"
  },
  "language_info": {
   "codemirror_mode": {
    "name": "ipython",
    "version": 3
   },
   "file_extension": ".py",
   "mimetype": "text/x-python",
   "name": "python",
   "nbconvert_exporter": "python",
   "pygments_lexer": "ipython3",
   "version": "3.10.12"
  },
  "papermill": {
   "default_parameters": {},
   "duration": 54.261168,
   "end_time": "2023-11-08T20:25:13.756616",
   "environment_variables": {},
   "exception": null,
   "input_path": "__notebook__.ipynb",
   "output_path": "__notebook__.ipynb",
   "parameters": {},
   "start_time": "2023-11-08T20:24:19.495448",
   "version": "2.4.0"
  }
 },
 "nbformat": 4,
 "nbformat_minor": 5
}
