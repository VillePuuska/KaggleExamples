{
 "cells": [
  {
   "cell_type": "markdown",
   "id": "0de953e6",
   "metadata": {
    "papermill": {
     "duration": 0.003046,
     "end_time": "2023-11-07T16:45:15.168014",
     "exception": false,
     "start_time": "2023-11-07T16:45:15.164968",
     "status": "completed"
    },
    "tags": []
   },
   "source": [
    "### Simple examples of how to use TDA tools.\n",
    "\n",
    "Using [scikit-tda libraries](https://scikit-tda.org/libraries.html)."
   ]
  },
  {
   "cell_type": "code",
   "execution_count": 1,
   "id": "05b54921",
   "metadata": {
    "_kg_hide-input": false,
    "_kg_hide-output": true,
    "execution": {
     "iopub.execute_input": "2023-11-07T16:45:15.175356Z",
     "iopub.status.busy": "2023-11-07T16:45:15.174842Z",
     "iopub.status.idle": "2023-11-07T16:46:04.527505Z",
     "shell.execute_reply": "2023-11-07T16:46:04.526271Z"
    },
    "papermill": {
     "duration": 49.359564,
     "end_time": "2023-11-07T16:46:04.530336",
     "exception": false,
     "start_time": "2023-11-07T16:45:15.170772",
     "status": "completed"
    },
    "scrolled": true,
    "tags": []
   },
   "outputs": [
    {
     "name": "stdout",
     "output_type": "stream",
     "text": [
      "Collecting scikit-tda\r\n",
      "  Downloading scikit_tda-1.0.0-py3-none-any.whl (2.9 kB)\r\n",
      "Requirement already satisfied: numpy in /opt/conda/lib/python3.10/site-packages (from scikit-tda) (1.23.5)\r\n",
      "Requirement already satisfied: scipy in /opt/conda/lib/python3.10/site-packages (from scikit-tda) (1.11.2)\r\n",
      "Requirement already satisfied: scikit-learn in /opt/conda/lib/python3.10/site-packages (from scikit-tda) (1.2.2)\r\n",
      "Requirement already satisfied: matplotlib in /opt/conda/lib/python3.10/site-packages (from scikit-tda) (3.7.2)\r\n",
      "Requirement already satisfied: Cython in /opt/conda/lib/python3.10/site-packages (from scikit-tda) (0.29.35)\r\n",
      "Collecting ripser (from scikit-tda)\r\n",
      "  Downloading ripser-0.6.4.tar.gz (74 kB)\r\n",
      "\u001b[2K     \u001b[90m━━━━━━━━━━━━━━━━━━━━━━━━━━━━━━━━━━━━━━━━\u001b[0m \u001b[32m74.6/74.6 kB\u001b[0m \u001b[31m2.1 MB/s\u001b[0m eta \u001b[36m0:00:00\u001b[0m\r\n",
      "\u001b[?25h  Installing build dependencies ... \u001b[?25l-\b \b\\\b \b|\b \b/\b \b-\b \b\\\b \b|\b \b/\b \b-\b \bdone\r\n",
      "\u001b[?25h  Getting requirements to build wheel ... \u001b[?25l-\b \b\\\b \bdone\r\n",
      "\u001b[?25h  Preparing metadata (pyproject.toml) ... \u001b[?25l-\b \bdone\r\n",
      "\u001b[?25hCollecting persim (from scikit-tda)\r\n",
      "  Downloading persim-0.3.2-py3-none-any.whl (48 kB)\r\n",
      "\u001b[2K     \u001b[90m━━━━━━━━━━━━━━━━━━━━━━━━━━━━━━━━━━━━━━━━\u001b[0m \u001b[32m48.1/48.1 kB\u001b[0m \u001b[31m4.6 MB/s\u001b[0m eta \u001b[36m0:00:00\u001b[0m\r\n",
      "\u001b[?25hRequirement already satisfied: pillow in /opt/conda/lib/python3.10/site-packages (from scikit-tda) (9.5.0)\r\n",
      "Requirement already satisfied: kmapper in /opt/conda/lib/python3.10/site-packages (from scikit-tda) (2.0.1)\r\n",
      "Collecting tadasets (from scikit-tda)\r\n",
      "  Downloading tadasets-0.0.4-py3-none-any.whl (7.1 kB)\r\n",
      "Requirement already satisfied: Jinja2 in /opt/conda/lib/python3.10/site-packages (from kmapper->scikit-tda) (3.1.2)\r\n",
      "Requirement already satisfied: contourpy>=1.0.1 in /opt/conda/lib/python3.10/site-packages (from matplotlib->scikit-tda) (1.1.0)\r\n",
      "Requirement already satisfied: cycler>=0.10 in /opt/conda/lib/python3.10/site-packages (from matplotlib->scikit-tda) (0.11.0)\r\n",
      "Requirement already satisfied: fonttools>=4.22.0 in /opt/conda/lib/python3.10/site-packages (from matplotlib->scikit-tda) (4.40.0)\r\n",
      "Requirement already satisfied: kiwisolver>=1.0.1 in /opt/conda/lib/python3.10/site-packages (from matplotlib->scikit-tda) (1.4.4)\r\n",
      "Requirement already satisfied: packaging>=20.0 in /opt/conda/lib/python3.10/site-packages (from matplotlib->scikit-tda) (21.3)\r\n",
      "Requirement already satisfied: pyparsing<3.1,>=2.3.1 in /opt/conda/lib/python3.10/site-packages (from matplotlib->scikit-tda) (3.0.9)\r\n",
      "Requirement already satisfied: python-dateutil>=2.7 in /opt/conda/lib/python3.10/site-packages (from matplotlib->scikit-tda) (2.8.2)\r\n",
      "Collecting hopcroftkarp (from persim->scikit-tda)\r\n",
      "  Downloading hopcroftkarp-1.2.5.tar.gz (16 kB)\r\n",
      "  Preparing metadata (setup.py) ... \u001b[?25ldone\r\n",
      "\u001b[?25hRequirement already satisfied: deprecated in /opt/conda/lib/python3.10/site-packages (from persim->scikit-tda) (1.2.14)\r\n",
      "Requirement already satisfied: joblib in /opt/conda/lib/python3.10/site-packages (from persim->scikit-tda) (1.3.2)\r\n",
      "Requirement already satisfied: threadpoolctl>=2.0.0 in /opt/conda/lib/python3.10/site-packages (from scikit-learn->scikit-tda) (3.1.0)\r\n",
      "Requirement already satisfied: six>=1.5 in /opt/conda/lib/python3.10/site-packages (from python-dateutil>=2.7->matplotlib->scikit-tda) (1.16.0)\r\n",
      "Requirement already satisfied: wrapt<2,>=1.10 in /opt/conda/lib/python3.10/site-packages (from deprecated->persim->scikit-tda) (1.14.1)\r\n",
      "Requirement already satisfied: MarkupSafe>=2.0 in /opt/conda/lib/python3.10/site-packages (from Jinja2->kmapper->scikit-tda) (2.1.3)\r\n",
      "Building wheels for collected packages: ripser, hopcroftkarp\r\n",
      "  Building wheel for ripser (pyproject.toml) ... \u001b[?25l-\b \b\\\b \b|\b \b/\b \b-\b \b\\\b \bdone\r\n",
      "\u001b[?25h  Created wheel for ripser: filename=ripser-0.6.4-cp310-cp310-linux_x86_64.whl size=88592 sha256=2c2b42c77e7b9d64b484cb729cf4113d6a176f4a8e7752f54139a0e85bf01164\r\n",
      "  Stored in directory: /root/.cache/pip/wheels/c5/f5/66/f41f708b049057431155934f74e20ca6001a085fcd2e615150\r\n",
      "  Building wheel for hopcroftkarp (setup.py) ... \u001b[?25l-\b \bdone\r\n",
      "\u001b[?25h  Created wheel for hopcroftkarp: filename=hopcroftkarp-1.2.5-py2.py3-none-any.whl size=18102 sha256=af40eb558c343f24000fe8de953b00e9eadc61d6f98999ce64c70baa45a2c805\r\n",
      "  Stored in directory: /root/.cache/pip/wheels/ef/0f/3b/0f931844eecc34addd90e72d54cd39c08b7066c5f25c00b9a4\r\n",
      "Successfully built ripser hopcroftkarp\r\n",
      "Installing collected packages: hopcroftkarp, tadasets, persim, ripser, scikit-tda\r\n",
      "Successfully installed hopcroftkarp-1.2.5 persim-0.3.2 ripser-0.6.4 scikit-tda-1.0.0 tadasets-0.0.4\r\n"
     ]
    }
   ],
   "source": [
    "!pip install scikit-tda"
   ]
  },
  {
   "cell_type": "code",
   "execution_count": 2,
   "id": "f4afdf9c",
   "metadata": {
    "execution": {
     "iopub.execute_input": "2023-11-07T16:46:04.545038Z",
     "iopub.status.busy": "2023-11-07T16:46:04.544569Z",
     "iopub.status.idle": "2023-11-07T16:46:06.308377Z",
     "shell.execute_reply": "2023-11-07T16:46:06.307006Z"
    },
    "papermill": {
     "duration": 1.774351,
     "end_time": "2023-11-07T16:46:06.311190",
     "exception": false,
     "start_time": "2023-11-07T16:46:04.536839",
     "status": "completed"
    },
    "tags": []
   },
   "outputs": [],
   "source": [
    "import ripser\n",
    "import kmapper as km\n",
    "import persim\n",
    "import tadasets\n",
    "from sklearn import datasets\n",
    "import os\n",
    "\n",
    "output_dir = \"/kaggle/working\""
   ]
  },
  {
   "cell_type": "code",
   "execution_count": 3,
   "id": "f319f31a",
   "metadata": {
    "execution": {
     "iopub.execute_input": "2023-11-07T16:46:06.325898Z",
     "iopub.status.busy": "2023-11-07T16:46:06.325365Z",
     "iopub.status.idle": "2023-11-07T16:46:07.123039Z",
     "shell.execute_reply": "2023-11-07T16:46:07.122055Z"
    },
    "papermill": {
     "duration": 0.807874,
     "end_time": "2023-11-07T16:46:07.125507",
     "exception": false,
     "start_time": "2023-11-07T16:46:06.317633",
     "status": "completed"
    },
    "tags": []
   },
   "outputs": [
    {
     "name": "stdout",
     "output_type": "stream",
     "text": [
      "KeplerMapper(verbose=1)\n",
      "..Composing projection pipeline of length 1:\n",
      "\tProjections: [0, 1]\n",
      "\tDistance matrices: False\n",
      "\tScalers: MinMaxScaler()\n",
      "..Projecting on data shaped (5000, 2)\n",
      "\n",
      "..Projecting data using: [0, 1]\n",
      "\n",
      "..Scaling with: MinMaxScaler()\n",
      "\n",
      "Mapping on data shaped (5000, 2) using lens shaped (5000, 2)\n",
      "\n",
      "Creating 100 hypercubes.\n",
      "\n",
      "Created 246 edges and 94 nodes in 0:00:00.408225.\n",
      "Wrote visualization to: /kaggle/working/make_circles_keplermapper_output.html\n"
     ]
    }
   ],
   "source": [
    "data, _ = datasets.make_circles(n_samples=5000, noise=0.03, factor=0.3)\n",
    "\n",
    "# Initialize\n",
    "mapper = km.KeplerMapper(verbose=1)\n",
    "\n",
    "# Fit to and transform the data\n",
    "projected_data = mapper.fit_transform(data, projection=[0,1]) # X-Y axis\n",
    "\n",
    "# Create a cover with 10 elements\n",
    "cover = km.Cover(n_cubes=10)\n",
    "\n",
    "# Create dictionary called 'graph' with nodes, edges and meta-information\n",
    "graph = mapper.map(projected_data, data, cover=cover)\n",
    "\n",
    "# Visualize it\n",
    "mapper_html = mapper.visualize(graph, path_html=os.path.join(output_dir, \"make_circles_keplermapper_output.html\"),\n",
    "                 title=\"make_circles(n_samples=5000, noise=0.03, factor=0.3)\")"
   ]
  },
  {
   "cell_type": "code",
   "execution_count": null,
   "id": "9db1db1d",
   "metadata": {
    "papermill": {
     "duration": 0.006156,
     "end_time": "2023-11-07T16:46:07.138234",
     "exception": false,
     "start_time": "2023-11-07T16:46:07.132078",
     "status": "completed"
    },
    "tags": []
   },
   "outputs": [],
   "source": []
  }
 ],
 "metadata": {
  "kernelspec": {
   "display_name": "Python 3",
   "language": "python",
   "name": "python3"
  },
  "language_info": {
   "codemirror_mode": {
    "name": "ipython",
    "version": 3
   },
   "file_extension": ".py",
   "mimetype": "text/x-python",
   "name": "python",
   "nbconvert_exporter": "python",
   "pygments_lexer": "ipython3",
   "version": "3.10.12"
  },
  "papermill": {
   "default_parameters": {},
   "duration": 56.111309,
   "end_time": "2023-11-07T16:46:07.665550",
   "environment_variables": {},
   "exception": null,
   "input_path": "__notebook__.ipynb",
   "output_path": "__notebook__.ipynb",
   "parameters": {},
   "start_time": "2023-11-07T16:45:11.554241",
   "version": "2.4.0"
  }
 },
 "nbformat": 4,
 "nbformat_minor": 5
}
